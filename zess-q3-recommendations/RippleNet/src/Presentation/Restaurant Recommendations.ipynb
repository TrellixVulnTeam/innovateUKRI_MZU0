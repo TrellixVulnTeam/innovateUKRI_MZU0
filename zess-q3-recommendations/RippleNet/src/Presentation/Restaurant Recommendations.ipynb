{
 "cells": [
  {
   "cell_type": "markdown",
   "id": "6c471cc8",
   "metadata": {},
   "source": [
    "# Restaurant Recommendations"
   ]
  },
  {
   "cell_type": "markdown",
   "id": "70911d9e",
   "metadata": {},
   "source": [
    "In this notebook we generate meal recommendations for a Zess App registered user who has a history of previous restaurant or meal selections (likes & dislikes). Restaurant recommendations for the recommended meals are given. If the user has a history of allergen(s), recommendations are given that filter out meals containing said allergen(s).\n",
    "\n",
    "*** \n",
    "\n",
    "Therefore, 2 use-case scenarios are given for the recommendations:\n",
    "\n",
    "* The user **doesn't** have any **dietary needs/allergies/intolerances**. Therefore, recommendations are generated based upon user preference & taste alone.\n",
    "\n",
    "* The user **does** have **dietary needs/allergies/intolerances**. Recommendations are thus generated based upon a mix of user preference, taste, and dietary needs.\n"
   ]
  },
  {
   "cell_type": "markdown",
   "id": "56d45b50",
   "metadata": {},
   "source": [
    "# 1. User preference and taste based restaurant recommendations"
   ]
  },
  {
   "cell_type": "markdown",
   "id": "7f92f30f",
   "metadata": {},
   "source": [
    "### Step 1\n",
    "*We will first import the required Python modules*"
   ]
  },
  {
   "cell_type": "code",
   "execution_count": 1,
   "id": "c89cb262",
   "metadata": {},
   "outputs": [],
   "source": [
    "import pickle\n",
    "import json\n",
    "import sys\n",
    "sys.path.append(\"../\")\n",
    "import numpy as np\n",
    "import torch\n",
    "from train import evaluation\n",
    "import postprocess\n",
    "from typedb.client import *\n",
    "import typedb as td\n",
    "import pprint\n",
    "\n",
    "def numbered_print(list_item):\n",
    "    for i, a in enumerate(list(set(list_item))):\n",
    "        print(f\"\\033[1m{i+1}.)\\033[0m {a}\")\n",
    "    print(\"\\n\")\n",
    "\n",
    "def replace_last(string, delimiter, replacement):\n",
    "    start, _, end = string.rpartition(delimiter)\n",
    "    return start + replacement + end\n",
    "\n",
    "ratings_filepath = \"../../data/restaurant/raw_ratings.txt\"\n",
    "model_filepath = \"../../data/py_model.pkl\"\n",
    "client_address = '127.0.0.1:1729'"
   ]
  },
  {
   "cell_type": "markdown",
   "id": "7130feb5",
   "metadata": {},
   "source": [
    "### Step 2\n",
    "*Now we load the trained deep learning model. This includes the user (test data) data that we wish to generate recommendations for.*"
   ]
  },
  {
   "cell_type": "code",
   "execution_count": 2,
   "id": "34f51fee",
   "metadata": {},
   "outputs": [],
   "source": [
    "model = torch.load(model_filepath)"
   ]
  },
  {
   "cell_type": "code",
   "execution_count": 3,
   "id": "5393eafb",
   "metadata": {},
   "outputs": [],
   "source": [
    "test_data, model_parameters = pickle.load(open(\"../save.pkl\", \"rb\"))"
   ]
  },
  {
   "cell_type": "markdown",
   "id": "220aca8f",
   "metadata": {},
   "source": [
    "### Step 3\n",
    "*Here we use the trained model to generate used based recommendation predictions*"
   ]
  },
  {
   "cell_type": "code",
   "execution_count": 4,
   "id": "e90bacd2",
   "metadata": {},
   "outputs": [],
   "source": [
    "_, _, test_scores = evaluation(\n",
    "            model, test_data, model_parameters\n",
    "        )"
   ]
  },
  {
   "cell_type": "markdown",
   "id": "66c7f480",
   "metadata": {},
   "source": [
    "### Step 4\n",
    "*Now we load the menu-items (i.e. a dish) and their respective encoded values mapping data file.*"
   ]
  },
  {
   "cell_type": "code",
   "execution_count": 5,
   "id": "49515af6",
   "metadata": {},
   "outputs": [],
   "source": [
    "with open('../../data/restaurant/encoded_mapping.txt') as f:\n",
    "    mapping = json.load(f)"
   ]
  },
  {
   "cell_type": "markdown",
   "id": "486ad18f",
   "metadata": {},
   "source": [
    "### Step 5\n",
    "*Now we need to select the ID of the user to fetch user data and generate recommendations for said user. That includes the appropriate meals/dishes for the user. This also includes meal to restaurant mapping data. We will then postprocess the model predictions.*"
   ]
  },
  {
   "cell_type": "code",
   "execution_count": 6,
   "id": "8251d5e8",
   "metadata": {},
   "outputs": [],
   "source": [
    "\"\"\"\n",
    "Select user with id: 100\n",
    "\"\"\"\n",
    "\n",
    "user_id = 1000\n",
    "\n",
    "results_dict = postprocess.postprocess_predictions(test_data, test_scores)\n",
    "recommendations_dict = postprocess.generate_recommendations_dict(results_dict)\n",
    "test_menu_items = postprocess.modify_recommendations_dict(recommendations_dict, mapping, user_id)\n",
    "recommendations = postprocess.out(test_menu_items)"
   ]
  },
  {
   "cell_type": "markdown",
   "id": "40c57f8a",
   "metadata": {},
   "source": [
    "### User based recommendations\n",
    "<div class=\"alert alert-block alert-success\">\n",
    "<b>Success:</b> Now we can see the users recommended meals!\n",
    "</div>"
   ]
  },
  {
   "cell_type": "code",
   "execution_count": 7,
   "id": "21e037f1",
   "metadata": {},
   "outputs": [
    {
     "name": "stdout",
     "output_type": "stream",
     "text": [
      "\n",
      "\u001b[1mRecommended Menu Items for user with user id 1000\u001b[0m:\n",
      " \n",
      "\u001b[1m1.)\u001b[0m Red Wine Spaghetti with Meatballs\n",
      "\u001b[1m2.)\u001b[0m Ice Cream Eggnog\n",
      "\u001b[1m3.)\u001b[0m Mexican Rhubarb Chocolate Chunk Brownies\n",
      "\u001b[1m4.)\u001b[0m Portobello Burger\n",
      "\u001b[1m5.)\u001b[0m Duck Confit\n",
      "\u001b[1m6.)\u001b[0m Grilled Tofu and Chicken Pad Thai\n",
      "\n",
      "\n"
     ]
    }
   ],
   "source": [
    "print(f\"\\n\\033[1mRecommended Menu Items for user with user id {user_id}\\033[0m:\\n \")\n",
    "numbered_print(recommendations)"
   ]
  },
  {
   "cell_type": "markdown",
   "id": "25e56e75",
   "metadata": {},
   "source": [
    "***\n",
    "Let's take a look at what they have previously liked and disliked"
   ]
  },
  {
   "cell_type": "code",
   "execution_count": 8,
   "id": "255fe130",
   "metadata": {},
   "outputs": [
    {
     "name": "stdout",
     "output_type": "stream",
     "text": [
      "\u001b[1mMenu Items the user has previously liked:\u001b[0m \n",
      "\n",
      "\u001b[1m1.)\u001b[0m Bacon Cheeseburgers with Spicy Mayonnaise\n",
      "\u001b[1m2.)\u001b[0m Rib-Eye Steak With Herb Butter and Charred Peppers\n",
      "\u001b[1m3.)\u001b[0m Pasta Primavera\n",
      "\u001b[1m4.)\u001b[0m Spaghetti with a Twist\n",
      "\u001b[1m5.)\u001b[0m Profiteroles\n",
      "\u001b[1m6.)\u001b[0m Linguine with Sun-Dried Tomatoes\n",
      "\u001b[1m7.)\u001b[0m Handcrafted Mushroom Lasagna\n",
      "\u001b[1m8.)\u001b[0m California Caponata\n",
      "\u001b[1m9.)\u001b[0m Grilled Zucchini and Herb Pizza\n",
      "\u001b[1m10.)\u001b[0m Italian Marinated Sirloin Steak\n",
      "\u001b[1m11.)\u001b[0m Spinach and Mushroom Lasagna\n",
      "\n",
      "\n",
      "\u001b[1mMenu Items the user has previously disliked:\u001b[0m \n",
      "\n",
      "\u001b[1m1.)\u001b[0m Salmon Florentine\n",
      "\u001b[1m2.)\u001b[0m Green Shrimp Lo Mein\n",
      "\u001b[1m3.)\u001b[0m Thai Fish Curry\n",
      "\u001b[1m4.)\u001b[0m B.B.Q. Garlic Crab\n",
      "\u001b[1m5.)\u001b[0m Grilled Peaches with Prosciutto and Balsamic\n",
      "\u001b[1m6.)\u001b[0m Upside-Down Apple Skillet Pie\n",
      "\u001b[1m7.)\u001b[0m Tuna Tartare\n",
      "\u001b[1m8.)\u001b[0m Tofu and Peanut Stir-Fry\n",
      "\u001b[1m9.)\u001b[0m Ahi Tuna with Napa Cabbage Salad\n",
      "\u001b[1m10.)\u001b[0m Dark Chocolate-Coconut Fondue\n",
      "\u001b[1m11.)\u001b[0m Vegetable Tart\n",
      "\u001b[1m12.)\u001b[0m Buffalo Patatas Bravas\n",
      "\u001b[1m13.)\u001b[0m Mussels and Clams with Spicy Tomato Broth\n",
      "\n",
      "\n"
     ]
    }
   ],
   "source": [
    "user_old_ratings = postprocess.read_ratings_json(ratings_filepath)\n",
    "previous_liked_items, previous_disliked_items = postprocess.user_past_ratings(user_old_ratings, recommendations, user_id)\n",
    "print(\"\\033[1mMenu Items the user has previously liked:\\033[0m \\n\")\n",
    "numbered_print(previous_liked_items)\n",
    "print(\"\\033[1mMenu Items the user has previously disliked:\\033[0m \\n\")\n",
    "numbered_print(previous_disliked_items)"
   ]
  },
  {
   "cell_type": "code",
   "execution_count": 9,
   "id": "0f0370dc",
   "metadata": {},
   "outputs": [],
   "source": [
    "restaurant_dict = {}\n",
    "for menu_item in recommendations:\n",
    "    query = 'match $mi isa menu-item, has name $min, has restaurant $mir; { $min contains \"' + menu_item + '\";}; '\n",
    "    query += f'get $mir; offset 0; limit 1;'\n",
    "    with td.client.TypeDB.core_client(client_address) as client:\n",
    "        with client.session('Q3', SessionType.DATA) as session:\n",
    "            with session.transaction(TransactionType.READ) as read_transaction:\n",
    "                answer_iterator = read_transaction.query().match(query)\n",
    "                for i, answer in enumerate(answer_iterator):\n",
    "                    restaurant = answer.get('mir')\n",
    "                    restaurant_dict[menu_item] = restaurant.get_value()"
   ]
  },
  {
   "cell_type": "markdown",
   "id": "f19b1836",
   "metadata": {},
   "source": [
    "### Outcome\n",
    "The user can therefore go to the following restaurants for their recommended meals:"
   ]
  },
  {
   "cell_type": "code",
   "execution_count": 10,
   "id": "f49b1c1d",
   "metadata": {},
   "outputs": [
    {
     "name": "stdout",
     "output_type": "stream",
     "text": [
      "\n",
      "\n",
      "\n",
      "\u001b[1m1.)\u001b[0m \u001b[94mRed Wine Spaghetti with Meatballs\u001b[0m is served at \u001b[1mBubba Gump Shrimp Company\u001b[0m\n",
      "\n",
      "\u001b[1m2.)\u001b[0m \u001b[94mPortobello Burger\u001b[0m is served at \u001b[1mChuck-A-Rama\u001b[0m\n",
      "\n",
      "\u001b[1m3.)\u001b[0m \u001b[94mGrilled Tofu and Chicken Pad Thai\u001b[0m is served at \u001b[1mCabalen\u001b[0m\n",
      "\n",
      "\u001b[1m4.)\u001b[0m \u001b[94mDuck Confit\u001b[0m is served at \u001b[1mCactus Club Cafe\u001b[0m\n",
      "\n",
      "\u001b[1m5.)\u001b[0m \u001b[94mMexican Rhubarb Chocolate Chunk Brownies\u001b[0m is served at \u001b[1mThe Counter\u001b[0m\n",
      "\n",
      "\u001b[1m6.)\u001b[0m \u001b[94mIce Cream Eggnog\u001b[0m is served at \u001b[1mHopCat\u001b[0m\n",
      "\n",
      "\n",
      "\n",
      "\n"
     ]
    }
   ],
   "source": [
    "print('\\n\\n')\n",
    "d = {n:[k for k in restaurant_dict.keys() if restaurant_dict[k] == n] for n in set(restaurant_dict.values())}\n",
    "                    \n",
    "for i, (k, v) in enumerate(d.items()):\n",
    "    if len(v) > 1:\n",
    "        items = \", \".join(v)\n",
    "        items = replace_last(items, ',', ', &')\n",
    "        print(f\"\\033[1m{i+1}.)\\033[0m \\033[94m{items}\\033[0m are served at \\033[1m{k}\\033[0m\\n\")\n",
    "    else:\n",
    "        print(f\"\\033[1m{i+1}.)\\033[0m \\033[94m{v[0]}\\033[0m is served at \\033[1m{k}\\033[0m\\n\")\n",
    "print('\\n\\n')"
   ]
  },
  {
   "cell_type": "markdown",
   "id": "fd169f73",
   "metadata": {},
   "source": [
    "# 2. User preference, taste, and allergen friendly based restaurant recommendations\n",
    "***"
   ]
  },
  {
   "cell_type": "markdown",
   "id": "25ab7802",
   "metadata": {},
   "source": [
    "Here we will include allergen preferences for the user and query the knowledge-graph again to determine what restaurants they can go to for their recommended meals.\n",
    "\n",
    "<div class=\"alert alert-block alert-info\">\n",
    "<b>Defining the allergens:</b> Here we define the allergens in a list from the statutory allergen requirements (14 allergens), including eggs, fish, lupin, milk, molluscs, Cereals containing gluten, mustard, treenuts, peanuts, seasame, soya, sulphur, celery (allergen), and crustaceans.\n",
    "\n",
    "In this example we are searching for eggs & fish against this users recommended preferred meals to see what they can safely eat.\n",
    "</div>\n",
    "\n",
    "##### Allergens selected:\n",
    "1. Eggs\n",
    "2. Fish\n",
    "\n",
    "### Step 1\n",
    "*Select the allergens and query the knowledge-graph to return ingredients and their associated allergens*"
   ]
  },
  {
   "cell_type": "code",
   "execution_count": 11,
   "id": "e5ff8c28",
   "metadata": {},
   "outputs": [],
   "source": [
    "user_allergens = ['eggs', 'fish'] # We are defining the users allergens here"
   ]
  },
  {
   "cell_type": "code",
   "execution_count": 12,
   "id": "4f17ab75",
   "metadata": {},
   "outputs": [],
   "source": [
    "answer_dict = {}\n",
    "for menu_item in recommendations:\n",
    "    query = 'match $mi isa menu-item, has name $min; { $min contains \"' + menu_item + '\";}; '\n",
    "    query += f'$i isa ingredient, has name $in, has allergen $ia; '\n",
    "    query += f'$con (ingredient-belongs-to-menu-item: $mi, menu-item-has-ingredient: $i) isa contains; '\n",
    "    query += f'get $in, $ia; offset 0; limit 30;'\n",
    "    with td.client.TypeDB.core_client(client_address) as client:\n",
    "        with client.session('Q3', SessionType.DATA) as session:\n",
    "            with session.transaction(TransactionType.READ) as read_transaction:\n",
    "                \n",
    "                answer_iterator = read_transaction.query().match(query)\n",
    "                temp_dict = {}\n",
    "                for i, answer in enumerate(answer_iterator):\n",
    "                    ingredient = answer.get('in')\n",
    "                    allergen = answer.get('ia')\n",
    "                    temp_dict[ingredient.get_value()] = allergen.get_value()\n",
    "                answer_dict[menu_item] = temp_dict"
   ]
  },
  {
   "cell_type": "code",
   "execution_count": 13,
   "id": "39707785",
   "metadata": {},
   "outputs": [],
   "source": [
    "contains_allergens = []\n",
    "for k, v in answer_dict.items():\n",
    "    for allergen in user_allergens:\n",
    "        if allergen in v.values():\n",
    "            contains_allergens.append(k)\n",
    "# pprint.pprint(answer_dict)"
   ]
  },
  {
   "cell_type": "markdown",
   "id": "6ca037f8",
   "metadata": {},
   "source": [
    "<div class=\"alert alert-block alert-success\">\n",
    "<b>Success!</b> We now have a list of meals containing allergens that the user is allergic to. So, we can remove them and give back a clean filtered recommendation. \n",
    "</div>"
   ]
  },
  {
   "cell_type": "code",
   "execution_count": 14,
   "id": "6b225ee4",
   "metadata": {},
   "outputs": [
    {
     "name": "stdout",
     "output_type": "stream",
     "text": [
      "The following allergen containing meals have been identified from the users preferred meals:\n",
      "\n",
      "\n",
      "\u001b[1m1.)\u001b[0m Red Wine Spaghetti with Meatballs\n",
      "\u001b[1m2.)\u001b[0m Mexican Rhubarb Chocolate Chunk Brownies\n",
      "\n",
      "\n"
     ]
    }
   ],
   "source": [
    "print(f'The following allergen containing meals have been identified from the users preferred meals:\\n\\n')\n",
    "numbered_print(contains_allergens)\n",
    "allergen_free_list = [x for x in list(answer_dict.keys()) if x not in contains_allergens]\n",
    "allergen_free_list = list(set(allergen_free_list))"
   ]
  },
  {
   "cell_type": "code",
   "execution_count": 15,
   "id": "63369e80",
   "metadata": {},
   "outputs": [
    {
     "name": "stdout",
     "output_type": "stream",
     "text": [
      "The following preferred meals are therefore allergen free and the user may consume them:\n",
      "\n",
      "\n",
      "\u001b[1m1.)\u001b[0m Portobello Burger\n",
      "\u001b[1m2.)\u001b[0m Duck Confit\n",
      "\u001b[1m3.)\u001b[0m Ice Cream Eggnog\n",
      "\u001b[1m4.)\u001b[0m Grilled Tofu and Chicken Pad Thai\n",
      "\n",
      "\n"
     ]
    }
   ],
   "source": [
    "print('The following preferred meals are therefore allergen free and the user may consume them:\\n\\n')\n",
    "numbered_print(allergen_free_list)"
   ]
  },
  {
   "cell_type": "markdown",
   "id": "41f5b7b3",
   "metadata": {},
   "source": [
    "### Step 2\n",
    "*Now we need to find what restaurant(s) the user can go to for their recommended meals*"
   ]
  },
  {
   "cell_type": "markdown",
   "id": "8287965f",
   "metadata": {},
   "source": [
    "<div class=\"alert alert-block alert-info\">\n",
    "<b>Eating out:</b> Now that we know what the user can eat from their predicted preferred meals, we can show them what restaurants they can go to by again querying the Knowledge Graph.\n",
    "</div>"
   ]
  },
  {
   "cell_type": "code",
   "execution_count": 16,
   "id": "16596d6e",
   "metadata": {},
   "outputs": [],
   "source": [
    "restaurant_allergen_dict = {}\n",
    "for menu_item in allergen_free_list:\n",
    "    query = 'match $mi isa menu-item, has name $min, has restaurant $mir; { $min contains \"' + menu_item + '\";}; '\n",
    "    query += f'get $mir; offset 0; limit 1;'\n",
    "    with td.client.TypeDB.core_client(client_address) as client:\n",
    "        with client.session('Q3', SessionType.DATA) as session:\n",
    "            with session.transaction(TransactionType.READ) as read_transaction:\n",
    "                answer_iterator = read_transaction.query().match(query)\n",
    "                for i, answer in enumerate(answer_iterator):\n",
    "                    restaurant = answer.get('mir')\n",
    "                    restaurant_allergen_dict[menu_item] = restaurant.get_value()"
   ]
  },
  {
   "cell_type": "markdown",
   "id": "f9bf27a3",
   "metadata": {},
   "source": [
    "### Outcome\n",
    "*The user can go to the restaurants shown below:*"
   ]
  },
  {
   "cell_type": "code",
   "execution_count": 17,
   "id": "503cf06a",
   "metadata": {},
   "outputs": [
    {
     "name": "stdout",
     "output_type": "stream",
     "text": [
      "\n",
      "\n",
      "\n",
      "\u001b[1m1.)\u001b[0m \u001b[94mIce Cream Eggnog\u001b[0m is served at \u001b[1mHopCat\u001b[0m\n",
      "\n",
      "\u001b[1m2.)\u001b[0m \u001b[94mGrilled Tofu and Chicken Pad Thai\u001b[0m is served at \u001b[1mCabalen\u001b[0m\n",
      "\n",
      "\u001b[1m3.)\u001b[0m \u001b[94mDuck Confit\u001b[0m is served at \u001b[1mCactus Club Cafe\u001b[0m\n",
      "\n",
      "\u001b[1m4.)\u001b[0m \u001b[94mPortobello Burger\u001b[0m is served at \u001b[1mChuck-A-Rama\u001b[0m\n",
      "\n",
      "\n",
      "\n",
      "\n"
     ]
    }
   ],
   "source": [
    "print('\\n\\n')\n",
    "d = {n:[k for k in restaurant_allergen_dict.keys() if restaurant_allergen_dict[k] == n] for n in set(restaurant_allergen_dict.values())}\n",
    "\n",
    "for i, (k, v) in enumerate(d.items()):\n",
    "    if len(v) > 1:\n",
    "        items = \", \".join(v)\n",
    "        items = replace_last(items, ',', ', &')\n",
    "        print(f\"\\033[1m{i+1}.)\\033[0m \\033[94m{items}\\033[0m are served at \\033[1m{k}\\033[0m\\n\")\n",
    "    else:\n",
    "        print(f\"\\033[1m{i+1}.)\\033[0m \\033[94m{v[0]}\\033[0m is served at \\033[1m{k}\\033[0m\\n\")\n",
    "print('\\n\\n')"
   ]
  },
  {
   "cell_type": "markdown",
   "id": "72451b75",
   "metadata": {},
   "source": [
    "# 3. Conclusion\n",
    "<div class=\"alert alert-block alert-success\">\n",
    "As demonstrated, we can generate meal recommendations and query our knowledge graph to determine what restaurant the user needs to go to for said meals based on their dietary needs.\n",
    "</div>"
   ]
  }
 ],
 "metadata": {
  "kernelspec": {
   "display_name": "orbit",
   "language": "python",
   "name": "orbit"
  },
  "language_info": {
   "codemirror_mode": {
    "name": "ipython",
    "version": 3
   },
   "file_extension": ".py",
   "mimetype": "text/x-python",
   "name": "python",
   "nbconvert_exporter": "python",
   "pygments_lexer": "ipython3",
   "version": "3.8.3"
  }
 },
 "nbformat": 4,
 "nbformat_minor": 5
}
