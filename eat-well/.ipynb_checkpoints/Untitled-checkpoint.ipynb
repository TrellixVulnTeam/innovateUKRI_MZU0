{
 "cells": [
  {
   "cell_type": "code",
   "execution_count": 673,
   "metadata": {},
   "outputs": [],
   "source": [
    "import networkx as nx\n",
    "import matplotlib.pyplot as plt\n",
    "from itertools import combinations\n",
    "from collections import defaultdict\n",
    "import pickle\n",
    "import pandas as pd\n",
    "import copy\n",
    "import numpy as np\n",
    "from tqdm import tqdm\n",
    "from typedb.client import *\n",
    "import azlib.utils as azutils\n",
    "from eat_well_features import EatWellFeatures"
   ]
  },
  {
   "cell_type": "code",
   "execution_count": 674,
   "metadata": {},
   "outputs": [],
   "source": [
    "# Load the queried Grakn subgraph\n",
    "from os import listdir\n",
    "from os.path import isfile, join\n",
    "files = [f for f in listdir('data/') if isfile(join('data/', f))]\n",
    "\n",
    "graph = []\n",
    "for file in files:\n",
    "    graph.extend(pickle.load(open('data/' + file, \"rb\")))"
   ]
  },
  {
   "cell_type": "code",
   "execution_count": 675,
   "metadata": {},
   "outputs": [],
   "source": [
    "def populate_list_of_dicts(s, s1):\n",
    "    ss = []\n",
    "    for i, j in zip(s, s1):\n",
    "        sss ={}\n",
    "        for k, l in zip(i, j):\n",
    "            sss[l] = k\n",
    "        ss.append(sss)\n",
    "        \n",
    "    return ss"
   ]
  },
  {
   "cell_type": "code",
   "execution_count": 676,
   "metadata": {},
   "outputs": [],
   "source": [
    "nutrition_data_list = {}\n",
    "for idx in range(0, len(graph)):\n",
    "    nutrition_list, nutrition_list_tags = [], []\n",
    "    g = copy.deepcopy(graph[idx])\n",
    "    # Load it in pandas dataframe\n",
    "    df = nx.to_pandas_edgelist(g)\n",
    "\n",
    "    nodes = []\n",
    "    for node_id in list(df[\"target\"].tolist()):\n",
    "        node_id = str(node_id).split(\",\")[1].replace(\">\", \"\").strip().split(\":\", 1)[1]\n",
    "        node_id = node_id.rstrip(\":\")\n",
    "        nodes.append(node_id[1:])\n",
    "\n",
    "    df = nx.to_pandas_edgelist(g)\n",
    "    df[\"target\"] = nodes\n",
    "\n",
    "    source_data_col = []\n",
    "    for i in df[\"source\"].tolist():\n",
    "        source_data_col.append(str(i).split(\", \")[1][:-1])\n",
    "    \n",
    "    df[\"source\"] = source_data_col\n",
    "    nutrition_list = df.groupby('source')['target'].apply(list).tolist()\n",
    "    nutrition_list_tags = df.groupby('source')['type'].apply(list).tolist()\n",
    "    nutrition_data_list[idx] = populate_list_of_dicts(nutrition_list, nutrition_list_tags)\n"
   ]
  },
  {
   "cell_type": "code",
   "execution_count": 677,
   "metadata": {},
   "outputs": [],
   "source": [
    "for sublst in nutrition_data_list.values():\n",
    "    menu_item_ingredients = []\n",
    "    for dict_object in sublst:\n",
    "        if dict_object[\"menu-item-has-ingredient\"] == \"Warm Octopus and Sweet Onion Salad with Fresh Basil and Lemon Vinaigrette\":\n",
    "            menu_item_ingredients.append(dict_object[\"ingredient-belongs-to-menu-item\"])"
   ]
  },
  {
   "cell_type": "code",
   "execution_count": 678,
   "metadata": {},
   "outputs": [],
   "source": [
    "menu_item_ingredients = list(set(menu_item_ingredients))"
   ]
  },
  {
   "cell_type": "code",
   "execution_count": 679,
   "metadata": {},
   "outputs": [],
   "source": [
    "menu_item_ingredient_nutrient_data = []\n",
    "for ing in menu_item_ingredients:\n",
    "    for sublst in nutrition_data_list.values():\n",
    "        for dict_object in sublst:\n",
    "            if dict_object[\"ingredient-belongs-to-menu-item\"] == ing:\n",
    "                menu_item_ingredient_nutrient_data.append(dict_object)\n",
    "                break"
   ]
  },
  {
   "cell_type": "code",
   "execution_count": 680,
   "metadata": {},
   "outputs": [],
   "source": [
    "total_nutrition_values, total_nutrition_labels = [], []\n",
    "for i in menu_item_ingredient_nutrient_data:\n",
    "    ingredient_nutrition_values = []\n",
    "    nutrition = list(i.keys())[2:]\n",
    "    values = list(i.values())[2:]\n",
    "    total_nutrition_values.append([values])\n",
    "    total_nutrition_labels.append([nutrition])"
   ]
  },
  {
   "cell_type": "code",
   "execution_count": 681,
   "metadata": {},
   "outputs": [],
   "source": [
    "temp_li, labels = [], []\n",
    "nd = []\n",
    "append_labels = True\n",
    "for idx, (i, k) in enumerate(zip(total_nutrition_values, total_nutrition_labels)):\n",
    "    if len(i[0]) > 1:\n",
    "        for j, l in zip(i[0], k[0]):\n",
    "            if append_labels:\n",
    "                labels.append(l)\n",
    "            temp_li.append(float(j))\n",
    "    else:\n",
    "        if append_labels:\n",
    "            labels.append(k[0][0])\n",
    "        append_labels = False  \n",
    "        temp_li.append(float(i[0][0]))\n",
    "        b = np.array(temp_li)\n",
    "        nd.append(b)\n",
    "        temp_li = []\n",
    "        \n",
    "    "
   ]
  },
  {
   "cell_type": "code",
   "execution_count": 682,
   "metadata": {},
   "outputs": [],
   "source": [
    "meal_nutrition_matrix = np.stack(nd, axis=0)\n",
    "meal_nutrition_matrix = np.nan_to_num(meal_nutrition_matrix)"
   ]
  },
  {
   "cell_type": "code",
   "execution_count": 683,
   "metadata": {},
   "outputs": [],
   "source": [
    "row_sums = [sum(row) for row in meal_nutrition_matrix.T]"
   ]
  },
  {
   "cell_type": "code",
   "execution_count": 684,
   "metadata": {},
   "outputs": [],
   "source": [
    "menu_item_nutrition_table = pd.DataFrame([labels, row_sums]).T"
   ]
  },
  {
   "cell_type": "code",
   "execution_count": 685,
   "metadata": {},
   "outputs": [
    {
     "data": {
      "text/html": [
       "<div>\n",
       "<style scoped>\n",
       "    .dataframe tbody tr th:only-of-type {\n",
       "        vertical-align: middle;\n",
       "    }\n",
       "\n",
       "    .dataframe tbody tr th {\n",
       "        vertical-align: top;\n",
       "    }\n",
       "\n",
       "    .dataframe thead th {\n",
       "        text-align: right;\n",
       "    }\n",
       "</style>\n",
       "<table border=\"1\" class=\"dataframe\">\n",
       "  <thead>\n",
       "    <tr style=\"text-align: right;\">\n",
       "      <th></th>\n",
       "      <th>0</th>\n",
       "      <th>1</th>\n",
       "    </tr>\n",
       "  </thead>\n",
       "  <tbody>\n",
       "    <tr>\n",
       "      <th>0</th>\n",
       "      <td>omega_3</td>\n",
       "      <td>0.7</td>\n",
       "    </tr>\n",
       "    <tr>\n",
       "      <th>1</th>\n",
       "      <td>omega_6</td>\n",
       "      <td>7.5</td>\n",
       "    </tr>\n",
       "    <tr>\n",
       "      <th>2</th>\n",
       "      <td>trans</td>\n",
       "      <td>0.0</td>\n",
       "    </tr>\n",
       "    <tr>\n",
       "      <th>3</th>\n",
       "      <td>salt</td>\n",
       "      <td>98.36</td>\n",
       "    </tr>\n",
       "    <tr>\n",
       "      <th>4</th>\n",
       "      <td>alcohol</td>\n",
       "      <td>0.0</td>\n",
       "    </tr>\n",
       "    <tr>\n",
       "      <th>5</th>\n",
       "      <td>sodium</td>\n",
       "      <td>39357.16</td>\n",
       "    </tr>\n",
       "    <tr>\n",
       "      <th>6</th>\n",
       "      <td>saturates</td>\n",
       "      <td>16.6</td>\n",
       "    </tr>\n",
       "    <tr>\n",
       "      <th>7</th>\n",
       "      <td>pufa</td>\n",
       "      <td>10.5</td>\n",
       "    </tr>\n",
       "    <tr>\n",
       "      <th>8</th>\n",
       "      <td>mufa</td>\n",
       "      <td>74.6</td>\n",
       "    </tr>\n",
       "    <tr>\n",
       "      <th>9</th>\n",
       "      <td>energy</td>\n",
       "      <td>1594.0</td>\n",
       "    </tr>\n",
       "    <tr>\n",
       "      <th>10</th>\n",
       "      <td>protein</td>\n",
       "      <td>8.6</td>\n",
       "    </tr>\n",
       "    <tr>\n",
       "      <th>11</th>\n",
       "      <td>sugar</td>\n",
       "      <td>91.0</td>\n",
       "    </tr>\n",
       "    <tr>\n",
       "      <th>12</th>\n",
       "      <td>potassium</td>\n",
       "      <td>732.0</td>\n",
       "    </tr>\n",
       "    <tr>\n",
       "      <th>13</th>\n",
       "      <td>carbohydrate</td>\n",
       "      <td>142.0</td>\n",
       "    </tr>\n",
       "    <tr>\n",
       "      <th>14</th>\n",
       "      <td>fat</td>\n",
       "      <td>108.4</td>\n",
       "    </tr>\n",
       "    <tr>\n",
       "      <th>15</th>\n",
       "      <td>fibre</td>\n",
       "      <td>0.0</td>\n",
       "    </tr>\n",
       "  </tbody>\n",
       "</table>\n",
       "</div>"
      ],
      "text/plain": [
       "               0         1\n",
       "0        omega_3       0.7\n",
       "1        omega_6       7.5\n",
       "2          trans       0.0\n",
       "3           salt     98.36\n",
       "4        alcohol       0.0\n",
       "5         sodium  39357.16\n",
       "6      saturates      16.6\n",
       "7           pufa      10.5\n",
       "8           mufa      74.6\n",
       "9         energy    1594.0\n",
       "10       protein       8.6\n",
       "11         sugar      91.0\n",
       "12     potassium     732.0\n",
       "13  carbohydrate     142.0\n",
       "14           fat     108.4\n",
       "15         fibre       0.0"
      ]
     },
     "execution_count": 685,
     "metadata": {},
     "output_type": "execute_result"
    }
   ],
   "source": [
    "menu_item_nutrition_table"
   ]
  },
  {
   "cell_type": "code",
   "execution_count": 686,
   "metadata": {},
   "outputs": [],
   "source": [
    "ew = EatWellFeatures()"
   ]
  },
  {
   "cell_type": "code",
   "execution_count": null,
   "metadata": {},
   "outputs": [],
   "source": [
    "score = ew.final_score_calculator(menu_item_nutrition_table)"
   ]
  }
 ],
 "metadata": {
  "kernelspec": {
   "display_name": "Python 3",
   "language": "python",
   "name": "python3"
  },
  "language_info": {
   "codemirror_mode": {
    "name": "ipython",
    "version": 3
   },
   "file_extension": ".py",
   "mimetype": "text/x-python",
   "name": "python",
   "nbconvert_exporter": "python",
   "pygments_lexer": "ipython3",
   "version": "3.8.10"
  }
 },
 "nbformat": 4,
 "nbformat_minor": 4
}
