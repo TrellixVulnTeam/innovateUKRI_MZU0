{
 "cells": [
  {
   "cell_type": "code",
   "execution_count": 1,
   "id": "decba50a",
   "metadata": {},
   "outputs": [
    {
     "name": "stderr",
     "output_type": "stream",
     "text": [
      "/Users/kostaspsychogyio/opt/anaconda3/envs/orbit/lib/python3.8/site-packages/gensim/similarities/__init__.py:15: UserWarning: The gensim.similarities.levenshtein submodule is disabled, because the optional Levenshtein package <https://pypi.org/project/python-Levenshtein/> is unavailable. Install Levenhstein (e.g. `pip install python-Levenshtein`) to suppress this warning.\n",
      "  warnings.warn(msg)\n"
     ]
    }
   ],
   "source": [
    "import networkx as nx\n",
    "import matplotlib.pyplot as plt\n",
    "from itertools import combinations\n",
    "from collections import defaultdict\n",
    "import pickle\n",
    "import pandas as pd\n",
    "import copy\n",
    "import numpy as np\n",
    "from tqdm import tqdm\n",
    "from typedb.client import *\n",
    "import azlib.utils as azutils\n",
    "from eat_well_features import EatWellFeatures"
   ]
  },
  {
   "cell_type": "code",
   "execution_count": 2,
   "id": "2232be26",
   "metadata": {},
   "outputs": [],
   "source": [
    "# Load the queried Grakn subgraph\n",
    "from os import listdir\n",
    "from os.path import isfile, join\n",
    "files = [f for f in listdir('data/') if isfile(join('data/', f))]\n",
    "\n",
    "graph = []\n",
    "for file in files:\n",
    "    graph.extend(pickle.load(open('data/' + file, \"rb\")))"
   ]
  },
  {
   "cell_type": "code",
   "execution_count": 3,
   "id": "9dc14d14",
   "metadata": {},
   "outputs": [],
   "source": [
    "def populate_list_of_dicts(s, s1):\n",
    "    ss = []\n",
    "    for i, j in zip(s, s1):\n",
    "        sss ={}\n",
    "        for k, l in zip(i, j):\n",
    "            sss[l] = k\n",
    "        ss.append(sss)\n",
    "        \n",
    "    return ss"
   ]
  },
  {
   "cell_type": "code",
   "execution_count": 4,
   "id": "e598fa97",
   "metadata": {},
   "outputs": [],
   "source": [
    "nutrition_data_list = {}\n",
    "for idx in range(0, len(graph)):\n",
    "    nutrition_list, nutrition_list_tags = [], []\n",
    "    g = copy.deepcopy(graph[idx])\n",
    "    # Load it in pandas dataframe\n",
    "    df = nx.to_pandas_edgelist(g)\n",
    "\n",
    "    nodes = []\n",
    "    for node_id in list(df[\"target\"].tolist()):\n",
    "        node_id = str(node_id).split(\",\")[1].replace(\">\", \"\").strip().split(\":\", 1)[1]\n",
    "        node_id = node_id.rstrip(\":\")\n",
    "        nodes.append(node_id[1:])\n",
    "\n",
    "    df = nx.to_pandas_edgelist(g)\n",
    "    df[\"target\"] = nodes\n",
    "\n",
    "    source_data_col = []\n",
    "    for i in df[\"source\"].tolist():\n",
    "        source_data_col.append(str(i).split(\", \")[1][:-1])\n",
    "    \n",
    "    df[\"source\"] = source_data_col\n",
    "    nutrition_list = df.groupby('source')['target'].apply(list).tolist()\n",
    "    nutrition_list_tags = df.groupby('source')['type'].apply(list).tolist()\n",
    "    nutrition_data_list[idx] = populate_list_of_dicts(nutrition_list, nutrition_list_tags)\n"
   ]
  },
  {
   "cell_type": "code",
   "execution_count": 5,
   "id": "ff05f41d",
   "metadata": {},
   "outputs": [],
   "source": [
    "for sublst in nutrition_data_list.values():\n",
    "    menu_item_ingredients = []\n",
    "    for dict_object in sublst:\n",
    "        if dict_object[\"menu-item-has-ingredient\"] == \"Warm Octopus and Sweet Onion Salad with Fresh Basil and Lemon Vinaigrette\":\n",
    "            menu_item_ingredients.append(dict_object[\"ingredient-belongs-to-menu-item\"])"
   ]
  },
  {
   "cell_type": "code",
   "execution_count": 6,
   "id": "e5a6abb3",
   "metadata": {},
   "outputs": [],
   "source": [
    "menu_item_ingredients = list(set(menu_item_ingredients))"
   ]
  },
  {
   "cell_type": "code",
   "execution_count": 7,
   "id": "bc88cb57",
   "metadata": {},
   "outputs": [],
   "source": [
    "menu_item_ingredient_nutrient_data = []\n",
    "for ing in menu_item_ingredients:\n",
    "    for sublst in nutrition_data_list.values():\n",
    "        for dict_object in sublst:\n",
    "            if dict_object[\"ingredient-belongs-to-menu-item\"] == ing:\n",
    "                menu_item_ingredient_nutrient_data.append(dict_object)\n",
    "                break"
   ]
  },
  {
   "cell_type": "code",
   "execution_count": 8,
   "id": "aeb0b2a9",
   "metadata": {},
   "outputs": [],
   "source": [
    "total_nutrition_values, total_nutrition_labels = [], []\n",
    "for i in menu_item_ingredient_nutrient_data:\n",
    "    ingredient_nutrition_values = []\n",
    "    nutrition = list(i.keys())[2:]\n",
    "    values = list(i.values())[2:]\n",
    "    total_nutrition_values.append([values])\n",
    "    total_nutrition_labels.append([nutrition])"
   ]
  },
  {
   "cell_type": "code",
   "execution_count": 9,
   "id": "110e4912",
   "metadata": {},
   "outputs": [],
   "source": [
    "temp_li, labels = [], []\n",
    "nd = []\n",
    "append_labels = True\n",
    "for idx, (i, k) in enumerate(zip(total_nutrition_values, total_nutrition_labels)):\n",
    "    if len(i[0]) > 1:\n",
    "        for j, l in zip(i[0], k[0]):\n",
    "            if append_labels:\n",
    "                labels.append(l)\n",
    "            temp_li.append(float(j))\n",
    "    else:\n",
    "        if append_labels:\n",
    "            labels.append(k[0][0])\n",
    "        append_labels = False  \n",
    "        temp_li.append(float(i[0][0]))\n",
    "        b = np.array(temp_li)\n",
    "        nd.append(b)\n",
    "        temp_li = []\n",
    "        \n",
    "    "
   ]
  },
  {
   "cell_type": "code",
   "execution_count": 10,
   "id": "d18d6896",
   "metadata": {},
   "outputs": [],
   "source": [
    "meal_nutrition_matrix = np.stack(nd, axis=0)\n",
    "meal_nutrition_matrix = np.nan_to_num(meal_nutrition_matrix)"
   ]
  },
  {
   "cell_type": "code",
   "execution_count": 11,
   "id": "803a65ff",
   "metadata": {},
   "outputs": [],
   "source": [
    "row_sums = [sum(row) for row in meal_nutrition_matrix.T]"
   ]
  },
  {
   "cell_type": "code",
   "execution_count": 12,
   "id": "6c7cfe68",
   "metadata": {},
   "outputs": [],
   "source": [
    "menu_item_nutrition_table = pd.DataFrame([labels, row_sums]).T"
   ]
  },
  {
   "cell_type": "code",
   "execution_count": 13,
   "id": "94cc8fe5",
   "metadata": {},
   "outputs": [
    {
     "data": {
      "text/html": [
       "<div>\n",
       "<style scoped>\n",
       "    .dataframe tbody tr th:only-of-type {\n",
       "        vertical-align: middle;\n",
       "    }\n",
       "\n",
       "    .dataframe tbody tr th {\n",
       "        vertical-align: top;\n",
       "    }\n",
       "\n",
       "    .dataframe thead th {\n",
       "        text-align: right;\n",
       "    }\n",
       "</style>\n",
       "<table border=\"1\" class=\"dataframe\">\n",
       "  <thead>\n",
       "    <tr style=\"text-align: right;\">\n",
       "      <th></th>\n",
       "      <th>0</th>\n",
       "      <th>1</th>\n",
       "    </tr>\n",
       "  </thead>\n",
       "  <tbody>\n",
       "    <tr>\n",
       "      <th>0</th>\n",
       "      <td>omega_3</td>\n",
       "      <td>0.7</td>\n",
       "    </tr>\n",
       "    <tr>\n",
       "      <th>1</th>\n",
       "      <td>omega_6</td>\n",
       "      <td>7.5</td>\n",
       "    </tr>\n",
       "    <tr>\n",
       "      <th>2</th>\n",
       "      <td>trans</td>\n",
       "      <td>0.0</td>\n",
       "    </tr>\n",
       "    <tr>\n",
       "      <th>3</th>\n",
       "      <td>salt</td>\n",
       "      <td>98.36</td>\n",
       "    </tr>\n",
       "    <tr>\n",
       "      <th>4</th>\n",
       "      <td>alcohol</td>\n",
       "      <td>0.0</td>\n",
       "    </tr>\n",
       "    <tr>\n",
       "      <th>5</th>\n",
       "      <td>sodium</td>\n",
       "      <td>39357.16</td>\n",
       "    </tr>\n",
       "    <tr>\n",
       "      <th>6</th>\n",
       "      <td>saturates</td>\n",
       "      <td>16.6</td>\n",
       "    </tr>\n",
       "    <tr>\n",
       "      <th>7</th>\n",
       "      <td>pufa</td>\n",
       "      <td>10.5</td>\n",
       "    </tr>\n",
       "    <tr>\n",
       "      <th>8</th>\n",
       "      <td>mufa</td>\n",
       "      <td>74.6</td>\n",
       "    </tr>\n",
       "    <tr>\n",
       "      <th>9</th>\n",
       "      <td>energy</td>\n",
       "      <td>1594.0</td>\n",
       "    </tr>\n",
       "    <tr>\n",
       "      <th>10</th>\n",
       "      <td>protein</td>\n",
       "      <td>8.6</td>\n",
       "    </tr>\n",
       "    <tr>\n",
       "      <th>11</th>\n",
       "      <td>sugar</td>\n",
       "      <td>91.0</td>\n",
       "    </tr>\n",
       "    <tr>\n",
       "      <th>12</th>\n",
       "      <td>potassium</td>\n",
       "      <td>732.0</td>\n",
       "    </tr>\n",
       "    <tr>\n",
       "      <th>13</th>\n",
       "      <td>carbohydrate</td>\n",
       "      <td>142.0</td>\n",
       "    </tr>\n",
       "    <tr>\n",
       "      <th>14</th>\n",
       "      <td>fat</td>\n",
       "      <td>108.4</td>\n",
       "    </tr>\n",
       "    <tr>\n",
       "      <th>15</th>\n",
       "      <td>fibre</td>\n",
       "      <td>0.0</td>\n",
       "    </tr>\n",
       "  </tbody>\n",
       "</table>\n",
       "</div>"
      ],
      "text/plain": [
       "               0         1\n",
       "0        omega_3       0.7\n",
       "1        omega_6       7.5\n",
       "2          trans       0.0\n",
       "3           salt     98.36\n",
       "4        alcohol       0.0\n",
       "5         sodium  39357.16\n",
       "6      saturates      16.6\n",
       "7           pufa      10.5\n",
       "8           mufa      74.6\n",
       "9         energy    1594.0\n",
       "10       protein       8.6\n",
       "11         sugar      91.0\n",
       "12     potassium     732.0\n",
       "13  carbohydrate     142.0\n",
       "14           fat     108.4\n",
       "15         fibre       0.0"
      ]
     },
     "execution_count": 13,
     "metadata": {},
     "output_type": "execute_result"
    }
   ],
   "source": [
    "menu_item_nutrition_table"
   ]
  },
  {
   "cell_type": "code",
   "execution_count": 14,
   "id": "a643c571",
   "metadata": {},
   "outputs": [],
   "source": [
    "def request_nutrient(nutrient_type):\n",
    "    val = float(menu_item_nutrition_table[menu_item_nutrition_table[0] == str(nutrient_type)][1])\n",
    "    return val"
   ]
  },
  {
   "cell_type": "code",
   "execution_count": 15,
   "id": "70a02623",
   "metadata": {},
   "outputs": [],
   "source": [
    "ew = EatWellFeatures()"
   ]
  },
  {
   "cell_type": "code",
   "execution_count": 16,
   "id": "6bd2062a",
   "metadata": {},
   "outputs": [
    {
     "name": "stdout",
     "output_type": "stream",
     "text": [
      "0.5144808906414928\n"
     ]
    }
   ],
   "source": [
    "energy = request_nutrient(\"energy\")\n",
    "carbohydrate = request_nutrient(\"carbohydrate\")\n",
    "protein = request_nutrient(\"protein\")\n",
    "fat = request_nutrient(\"fat\")\n",
    "\n",
    "score = ew.carbs_protein_fat_ratio(energy, carbohydrate, protein, fat)\n",
    "print(score)"
   ]
  },
  {
   "cell_type": "code",
   "execution_count": 17,
   "id": "0ee4efe1",
   "metadata": {},
   "outputs": [
    {
     "name": "stdout",
     "output_type": "stream",
     "text": [
      "0\n"
     ]
    }
   ],
   "source": [
    "salt = request_nutrient(\"salt\")\n",
    "sodium = request_nutrient(\"sodium\")\n",
    "\n",
    "score = ew.sodium_intake(salt, sodium)\n",
    "print(score)"
   ]
  },
  {
   "cell_type": "code",
   "execution_count": 18,
   "id": "acad36aa",
   "metadata": {},
   "outputs": [
    {
     "name": "stdout",
     "output_type": "stream",
     "text": [
      "1\n"
     ]
    }
   ],
   "source": [
    "potassium = request_nutrient(\"potassium\")\n",
    "\n",
    "score = ew.potassium_intake(potassium)\n",
    "print(score)"
   ]
  },
  {
   "cell_type": "code",
   "execution_count": 19,
   "id": "16c7f65f",
   "metadata": {},
   "outputs": [
    {
     "name": "stdout",
     "output_type": "stream",
     "text": [
      "0.5\n"
     ]
    }
   ],
   "source": [
    "energy = request_nutrient(\"energy\")\n",
    "\n",
    "score = ew.calorie_deficit(energy)\n",
    "print(score)"
   ]
  },
  {
   "cell_type": "code",
   "execution_count": 20,
   "id": "6fcfe5dd",
   "metadata": {},
   "outputs": [
    {
     "name": "stdout",
     "output_type": "stream",
     "text": [
      "0\n"
     ]
    }
   ],
   "source": [
    "fat = request_nutrient(\"fat\")\n",
    "pufa = request_nutrient(\"pufa\")\n",
    "\n",
    "score = ew.pufa_intake(fat, pufa)\n",
    "print(score)"
   ]
  },
  {
   "cell_type": "code",
   "execution_count": 21,
   "id": "27a79100",
   "metadata": {},
   "outputs": [
    {
     "name": "stdout",
     "output_type": "stream",
     "text": [
      "1\n"
     ]
    }
   ],
   "source": [
    "fat = request_nutrient(\"fat\")\n",
    "mufa = request_nutrient(\"mufa\")\n",
    "\n",
    "score = ew.mufa_intake(fat, mufa)\n",
    "print(score)"
   ]
  },
  {
   "cell_type": "code",
   "execution_count": 22,
   "id": "a2ae0c99",
   "metadata": {},
   "outputs": [
    {
     "name": "stdout",
     "output_type": "stream",
     "text": [
      "0\n"
     ]
    }
   ],
   "source": [
    "fat = request_nutrient(\"fat\")\n",
    "saturates = request_nutrient(\"saturates\")\n",
    "\n",
    "score = ew.saturated_intake(fat, saturates)\n",
    "print(score)"
   ]
  },
  {
   "cell_type": "code",
   "execution_count": 23,
   "id": "c17f6af5",
   "metadata": {},
   "outputs": [
    {
     "name": "stdout",
     "output_type": "stream",
     "text": [
      "1\n"
     ]
    }
   ],
   "source": [
    "fat = request_nutrient(\"fat\")\n",
    "trans_fats = request_nutrient(\"trans\")\n",
    "\n",
    "score = ew.trans_fats_intake(fat, trans_fats)\n",
    "print(score)"
   ]
  },
  {
   "cell_type": "code",
   "execution_count": 24,
   "id": "7e3f04de",
   "metadata": {},
   "outputs": [
    {
     "name": "stdout",
     "output_type": "stream",
     "text": [
      "0\n"
     ]
    }
   ],
   "source": [
    "omega_3 = request_nutrient(\"omega_3\")\n",
    "omega_6 = request_nutrient(\"omega_6\")\n",
    "\n",
    "score = ew.omega_ratio(omega_3, omega_6)\n",
    "print(score)"
   ]
  },
  {
   "cell_type": "code",
   "execution_count": 25,
   "id": "45f7bc1b",
   "metadata": {},
   "outputs": [
    {
     "name": "stdout",
     "output_type": "stream",
     "text": [
      "0\n"
     ]
    }
   ],
   "source": [
    "fibre = request_nutrient(\"fibre\")\n",
    "\n",
    "score = ew.fibre_intake(fibre)\n",
    "print(score)"
   ]
  },
  {
   "cell_type": "code",
   "execution_count": 26,
   "id": "e850acc1",
   "metadata": {},
   "outputs": [
    {
     "ename": "TypeError",
     "evalue": "final_score_calculator() missing 13 required positional arguments: 'sodium_intake_score', 'potassium_intake_score', 'calorie_deficit_Score', 'fruit_vegetable_intake_score', 'pufa_intake_score', 'mufa_intake_score', 'saturated_intake_score', 'trans_fats_intake', 'omega_ratio_score', 'fibre_intake_score', 'polyphenol_intake_score', 'fermented_food_intake_score', and 'alcohol_intake_score'",
     "output_type": "error",
     "traceback": [
      "\u001b[0;31m---------------------------------------------------------------------------\u001b[0m",
      "\u001b[0;31mTypeError\u001b[0m                                 Traceback (most recent call last)",
      "\u001b[0;32m<ipython-input-26-df9ec50d83e1>\u001b[0m in \u001b[0;36m<module>\u001b[0;34m\u001b[0m\n\u001b[0;32m----> 1\u001b[0;31m \u001b[0mscore\u001b[0m \u001b[0;34m=\u001b[0m \u001b[0mew\u001b[0m\u001b[0;34m.\u001b[0m\u001b[0mfinal_score_calculator\u001b[0m\u001b[0;34m(\u001b[0m\u001b[0mmenu_item_nutrition_table\u001b[0m\u001b[0;34m)\u001b[0m\u001b[0;34m\u001b[0m\u001b[0;34m\u001b[0m\u001b[0m\n\u001b[0m",
      "\u001b[0;31mTypeError\u001b[0m: final_score_calculator() missing 13 required positional arguments: 'sodium_intake_score', 'potassium_intake_score', 'calorie_deficit_Score', 'fruit_vegetable_intake_score', 'pufa_intake_score', 'mufa_intake_score', 'saturated_intake_score', 'trans_fats_intake', 'omega_ratio_score', 'fibre_intake_score', 'polyphenol_intake_score', 'fermented_food_intake_score', and 'alcohol_intake_score'"
     ]
    }
   ],
   "source": [
    "score = ew.final_score_calculator(menu_item_nutrition_table)"
   ]
  },
  {
   "cell_type": "code",
   "execution_count": null,
   "id": "f852bdd9",
   "metadata": {},
   "outputs": [],
   "source": []
  }
 ],
 "metadata": {
  "kernelspec": {
   "display_name": "Python 3",
   "language": "python",
   "name": "python3"
  },
  "language_info": {
   "codemirror_mode": {
    "name": "ipython",
    "version": 3
   },
   "file_extension": ".py",
   "mimetype": "text/x-python",
   "name": "python",
   "nbconvert_exporter": "python",
   "pygments_lexer": "ipython3",
   "version": "3.8.10"
  }
 },
 "nbformat": 4,
 "nbformat_minor": 5
}
